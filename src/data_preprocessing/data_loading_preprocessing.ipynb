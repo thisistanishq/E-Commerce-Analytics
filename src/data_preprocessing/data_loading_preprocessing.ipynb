{
 "cells": [
  {
   "cell_type": "code",
   "id": "initial_id",
   "metadata": {
    "ExecuteTime": {
     "end_time": "2025-06-03T21:52:56.869762Z",
     "start_time": "2025-06-03T21:52:55.841579Z"
    }
   },
   "source": [
    "import os\n",
    "import numpy as np\n",
    "import pandas as pd\n",
    "import warnings\n",
    "import matplotlib.pyplot as plt\n",
    "warnings.filterwarnings(\"ignore\")"
   ],
   "outputs": [],
   "execution_count": 3
  },
  {
   "cell_type": "code",
   "id": "753b039d0cfab52d",
   "metadata": {
    "ExecuteTime": {
     "end_time": "2025-06-03T21:52:58.455720Z",
     "start_time": "2025-06-03T21:52:57.986451Z"
    }
   },
   "source": [
    "import kagglehub\n",
    "path = kagglehub.dataset_download(\"olistbr/brazilian-ecommerce\")\n",
    "print('path to dataset file:', path)\n"
   ],
   "outputs": [
    {
     "name": "stdout",
     "output_type": "stream",
     "text": [
      "Warning: Looks like you're using an outdated `kagglehub` version (installed: 0.3.8), please consider upgrading to the latest version (0.3.12).\n",
      "path to dataset file: /Users/modupeolafagbenro/.cache/kagglehub/datasets/olistbr/brazilian-ecommerce/versions/2\n"
     ]
    }
   ],
   "execution_count": 4
  },
  {
   "cell_type": "code",
   "id": "8b25d1ac6f6ccc24",
   "metadata": {
    "ExecuteTime": {
     "end_time": "2025-06-03T21:53:02.867774Z",
     "start_time": "2025-06-03T21:53:02.862315Z"
    }
   },
   "source": [
    "files = os.listdir(path)\n",
    "print(\"files in the directory path and dataset inside:\")\n",
    "for file in files:\n",
    "    print(file)"
   ],
   "outputs": [
    {
     "name": "stdout",
     "output_type": "stream",
     "text": [
      "files in the directory path and dataset inside:\n",
      "olist_sellers_dataset.csv\n",
      "product_category_name_translation.csv\n",
      "olist_orders_dataset.csv\n",
      "olist_order_items_dataset.csv\n",
      "olist_customers_dataset.csv\n",
      "olist_geolocation_dataset.csv\n",
      "olist_order_payments_dataset.csv\n",
      "olist_order_reviews_dataset.csv\n",
      "olist_products_dataset.csv\n"
     ]
    }
   ],
   "execution_count": 5
  },
  {
   "cell_type": "code",
   "id": "e3ec3321-034f-439d-ad5b-b4cc9c7a17d6",
   "metadata": {
    "ExecuteTime": {
     "end_time": "2025-06-03T21:53:05.943690Z",
     "start_time": "2025-06-03T21:53:05.465377Z"
    }
   },
   "source": [
    "order_df = pd.read_csv(os.path.join(path, \"olist_orders_dataset.csv\"))\n",
    "order_items_df = pd.read_csv(os.path.join(path, \"olist_order_items_dataset.csv\"))\n",
    "customers_df= pd.read_csv(os.path.join(path,\"olist_customers_dataset.csv\"))\n",
    "products_df= pd.read_csv(os.path.join(path, \"olist_products_dataset.csv\"))\n",
    "print(\"Core dataset to be used:\")\n",
    "print(f\"orders: {order_df.shape}\")\n",
    "print(f\"order_items: {order_items_df.shape}\")\n",
    "print(f\"customers: {customers_df.shape}\")\n",
    "print(f\"products: {products_df.shape}\")\n"
   ],
   "outputs": [
    {
     "name": "stdout",
     "output_type": "stream",
     "text": [
      "Core dataset to be used:\n",
      "orders: (99441, 8)\n",
      "order_items: (112650, 7)\n",
      "customers: (99441, 5)\n",
      "products: (32951, 9)\n"
     ]
    }
   ],
   "execution_count": 6
  },
  {
   "cell_type": "code",
   "id": "019e8761-8287-4392-bc20-d0f21ffadc84",
   "metadata": {
    "ExecuteTime": {
     "end_time": "2025-06-03T21:53:07.473981Z",
     "start_time": "2025-06-03T21:53:07.463345Z"
    }
   },
   "source": [
    "print(order_df.head(5))"
   ],
   "outputs": [
    {
     "name": "stdout",
     "output_type": "stream",
     "text": [
      "                           order_id                       customer_id  \\\n",
      "0  e481f51cbdc54678b7cc49136f2d6af7  9ef432eb6251297304e76186b10a928d   \n",
      "1  53cdb2fc8bc7dce0b6741e2150273451  b0830fb4747a6c6d20dea0b8c802d7ef   \n",
      "2  47770eb9100c2d0c44946d9cf07ec65d  41ce2a54c0b03bf3443c3d931a367089   \n",
      "3  949d5b44dbf5de918fe9c16f97b45f8a  f88197465ea7920adcdbec7375364d82   \n",
      "4  ad21c59c0840e6cb83a9ceb5573f8159  8ab97904e6daea8866dbdbc4fb7aad2c   \n",
      "\n",
      "  order_status order_purchase_timestamp    order_approved_at  \\\n",
      "0    delivered      2017-10-02 10:56:33  2017-10-02 11:07:15   \n",
      "1    delivered      2018-07-24 20:41:37  2018-07-26 03:24:27   \n",
      "2    delivered      2018-08-08 08:38:49  2018-08-08 08:55:23   \n",
      "3    delivered      2017-11-18 19:28:06  2017-11-18 19:45:59   \n",
      "4    delivered      2018-02-13 21:18:39  2018-02-13 22:20:29   \n",
      "\n",
      "  order_delivered_carrier_date order_delivered_customer_date  \\\n",
      "0          2017-10-04 19:55:00           2017-10-10 21:25:13   \n",
      "1          2018-07-26 14:31:00           2018-08-07 15:27:45   \n",
      "2          2018-08-08 13:50:00           2018-08-17 18:06:29   \n",
      "3          2017-11-22 13:39:59           2017-12-02 00:28:42   \n",
      "4          2018-02-14 19:46:34           2018-02-16 18:17:02   \n",
      "\n",
      "  order_estimated_delivery_date  \n",
      "0           2017-10-18 00:00:00  \n",
      "1           2018-08-13 00:00:00  \n",
      "2           2018-09-04 00:00:00  \n",
      "3           2017-12-15 00:00:00  \n",
      "4           2018-02-26 00:00:00  \n"
     ]
    }
   ],
   "execution_count": 7
  },
  {
   "cell_type": "code",
   "id": "a0e9f5c0-85df-4185-8f26-68a119fc8b53",
   "metadata": {
    "ExecuteTime": {
     "end_time": "2025-06-03T21:53:11.330698Z",
     "start_time": "2025-06-03T21:53:11.297314Z"
    }
   },
   "source": [
    "print(customers_df.head(5))"
   ],
   "outputs": [
    {
     "name": "stdout",
     "output_type": "stream",
     "text": [
      "                        customer_id                customer_unique_id  \\\n",
      "0  06b8999e2fba1a1fbc88172c00ba8bc7  861eff4711a542e4b93843c6dd7febb0   \n",
      "1  18955e83d337fd6b2def6b18a428ac77  290c77bc529b7ac935b93aa66c333dc3   \n",
      "2  4e7b3e00288586ebd08712fdd0374a03  060e732b5b29e8181a18229c7b0b2b5e   \n",
      "3  b2b6027bc5c5109e529d4dc6358b12c3  259dac757896d24d7702b9acbbff3f3c   \n",
      "4  4f2d8ab171c80ec8364f7c12e35b23ad  345ecd01c38d18a9036ed96c73b8d066   \n",
      "\n",
      "   customer_zip_code_prefix          customer_city customer_state  \n",
      "0                     14409                 franca             SP  \n",
      "1                      9790  sao bernardo do campo             SP  \n",
      "2                      1151              sao paulo             SP  \n",
      "3                      8775        mogi das cruzes             SP  \n",
      "4                     13056               campinas             SP  \n"
     ]
    }
   ],
   "execution_count": 8
  },
  {
   "cell_type": "code",
   "id": "7b9d1909-1f6d-4a35-b2d6-2bba117d4079",
   "metadata": {
    "ExecuteTime": {
     "end_time": "2025-06-03T21:53:13.470448Z",
     "start_time": "2025-06-03T21:53:13.225187Z"
    }
   },
   "source": [
    "#merge_dataset for comphensive analysis\n",
    "main_df = order_df.merge(order_items_df, on='order_id')\\\n",
    "    .merge(customers_df, on='customer_id')\\\n",
    "    .merge(products_df, on='product_id')\n",
    "\n",
    "\n",
    "print(main_df)"
   ],
   "outputs": [
    {
     "name": "stdout",
     "output_type": "stream",
     "text": [
      "                                order_id                       customer_id  \\\n",
      "0       e481f51cbdc54678b7cc49136f2d6af7  9ef432eb6251297304e76186b10a928d   \n",
      "1       53cdb2fc8bc7dce0b6741e2150273451  b0830fb4747a6c6d20dea0b8c802d7ef   \n",
      "2       47770eb9100c2d0c44946d9cf07ec65d  41ce2a54c0b03bf3443c3d931a367089   \n",
      "3       949d5b44dbf5de918fe9c16f97b45f8a  f88197465ea7920adcdbec7375364d82   \n",
      "4       ad21c59c0840e6cb83a9ceb5573f8159  8ab97904e6daea8866dbdbc4fb7aad2c   \n",
      "...                                  ...                               ...   \n",
      "112645  63943bddc261676b46f01ca7ac2f7bd8  1fca14ff2861355f6e5f14306ff977a7   \n",
      "112646  83c1379a015df1e13d02aae0204711ab  1aa71eb042121263aafbe80c1b562c9c   \n",
      "112647  11c177c8e97725db2631073c19f07b62  b331b74b18dc79bcdf6532d51e1637c1   \n",
      "112648  11c177c8e97725db2631073c19f07b62  b331b74b18dc79bcdf6532d51e1637c1   \n",
      "112649  66dea50a8b16d9b4dee7af250b4be1a5  edb027a75a1449115f6b43211ae02a24   \n",
      "\n",
      "       order_status order_purchase_timestamp    order_approved_at  \\\n",
      "0         delivered      2017-10-02 10:56:33  2017-10-02 11:07:15   \n",
      "1         delivered      2018-07-24 20:41:37  2018-07-26 03:24:27   \n",
      "2         delivered      2018-08-08 08:38:49  2018-08-08 08:55:23   \n",
      "3         delivered      2017-11-18 19:28:06  2017-11-18 19:45:59   \n",
      "4         delivered      2018-02-13 21:18:39  2018-02-13 22:20:29   \n",
      "...             ...                      ...                  ...   \n",
      "112645    delivered      2018-02-06 12:58:58  2018-02-06 13:10:37   \n",
      "112646    delivered      2017-08-27 14:46:43  2017-08-27 15:04:16   \n",
      "112647    delivered      2018-01-08 21:28:27  2018-01-08 21:36:21   \n",
      "112648    delivered      2018-01-08 21:28:27  2018-01-08 21:36:21   \n",
      "112649    delivered      2018-03-08 20:57:30  2018-03-09 11:20:28   \n",
      "\n",
      "       order_delivered_carrier_date order_delivered_customer_date  \\\n",
      "0               2017-10-04 19:55:00           2017-10-10 21:25:13   \n",
      "1               2018-07-26 14:31:00           2018-08-07 15:27:45   \n",
      "2               2018-08-08 13:50:00           2018-08-17 18:06:29   \n",
      "3               2017-11-22 13:39:59           2017-12-02 00:28:42   \n",
      "4               2018-02-14 19:46:34           2018-02-16 18:17:02   \n",
      "...                             ...                           ...   \n",
      "112645          2018-02-07 23:22:42           2018-02-28 17:37:56   \n",
      "112646          2017-08-28 20:52:26           2017-09-21 11:24:17   \n",
      "112647          2018-01-12 15:35:03           2018-01-25 23:32:54   \n",
      "112648          2018-01-12 15:35:03           2018-01-25 23:32:54   \n",
      "112649          2018-03-09 22:11:59           2018-03-16 13:08:30   \n",
      "\n",
      "       order_estimated_delivery_date  order_item_id  \\\n",
      "0                2017-10-18 00:00:00              1   \n",
      "1                2018-08-13 00:00:00              1   \n",
      "2                2018-09-04 00:00:00              1   \n",
      "3                2017-12-15 00:00:00              1   \n",
      "4                2018-02-26 00:00:00              1   \n",
      "...                              ...            ...   \n",
      "112645           2018-03-02 00:00:00              1   \n",
      "112646           2017-09-27 00:00:00              1   \n",
      "112647           2018-02-15 00:00:00              1   \n",
      "112648           2018-02-15 00:00:00              2   \n",
      "112649           2018-04-03 00:00:00              1   \n",
      "\n",
      "                              product_id  ...            customer_city  \\\n",
      "0       87285b34884572647811a353c7ac498a  ...                sao paulo   \n",
      "1       595fac2a385ac33a80bd5114aec74eb8  ...                barreiras   \n",
      "2       aa4383b373c6aca5d8797843e5594415  ...               vianopolis   \n",
      "3       d0b61bfb1de832b15ba9d266ca96e5b0  ...  sao goncalo do amarante   \n",
      "4       65266b2da20d04dbe00c5c2d3bb7859e  ...              santo andre   \n",
      "...                                  ...  ...                      ...   \n",
      "112645  f1d4ce8c6dd66c47bbaa8c6781c2a923  ...             praia grande   \n",
      "112646  b80910977a37536adeddd63663f916ad  ...              nova vicosa   \n",
      "112647  d1c427060a0f73f6b889a5c7c61f2ac4  ...                  japuiba   \n",
      "112648  d1c427060a0f73f6b889a5c7c61f2ac4  ...                  japuiba   \n",
      "112649  006619bbed68b000c8ba3f8725d5409e  ...                     lapa   \n",
      "\n",
      "       customer_state   product_category_name  product_name_lenght  \\\n",
      "0                  SP   utilidades_domesticas                 40.0   \n",
      "1                  BA              perfumaria                 29.0   \n",
      "2                  GO              automotivo                 46.0   \n",
      "3                  RN                pet_shop                 59.0   \n",
      "4                  SP               papelaria                 38.0   \n",
      "...               ...                     ...                  ...   \n",
      "112645             SP                   bebes                 52.0   \n",
      "112646             BA      eletrodomesticos_2                 51.0   \n",
      "112647             RJ  informatica_acessorios                 59.0   \n",
      "112648             RJ  informatica_acessorios                 59.0   \n",
      "112649             PR            beleza_saude                 45.0   \n",
      "\n",
      "       product_description_lenght  product_photos_qty product_weight_g  \\\n",
      "0                           268.0                 4.0            500.0   \n",
      "1                           178.0                 1.0            400.0   \n",
      "2                           232.0                 1.0            420.0   \n",
      "3                           468.0                 3.0            450.0   \n",
      "4                           316.0                 4.0            250.0   \n",
      "...                           ...                 ...              ...   \n",
      "112645                      828.0                 4.0           4950.0   \n",
      "112646                      500.0                 2.0          13300.0   \n",
      "112647                     1893.0                 1.0           6550.0   \n",
      "112648                     1893.0                 1.0           6550.0   \n",
      "112649                      569.0                 1.0            150.0   \n",
      "\n",
      "       product_length_cm product_height_cm  product_width_cm  \n",
      "0                   19.0               8.0              13.0  \n",
      "1                   19.0              13.0              19.0  \n",
      "2                   24.0              19.0              21.0  \n",
      "3                   30.0              10.0              20.0  \n",
      "4                   51.0              15.0              15.0  \n",
      "...                  ...               ...               ...  \n",
      "112645              40.0              10.0              40.0  \n",
      "112646              32.0              90.0              22.0  \n",
      "112647              20.0              20.0              20.0  \n",
      "112648              20.0              20.0              20.0  \n",
      "112649              16.0               7.0              15.0  \n",
      "\n",
      "[112650 rows x 26 columns]\n"
     ]
    }
   ],
   "execution_count": 9
  },
  {
   "cell_type": "code",
   "id": "9c2f2d24-7979-4139-9ef6-58172c197420",
   "metadata": {
    "ExecuteTime": {
     "end_time": "2025-06-03T21:53:18.440649Z",
     "start_time": "2025-06-03T21:53:18.431886Z"
    }
   },
   "source": [
    "#checking the shape of the dataset \n",
    "main_df.shape"
   ],
   "outputs": [
    {
     "data": {
      "text/plain": [
       "(112650, 26)"
      ]
     },
     "execution_count": 10,
     "metadata": {},
     "output_type": "execute_result"
    }
   ],
   "execution_count": 10
  },
  {
   "cell_type": "code",
   "id": "d6817ee9-98bf-4a32-8e8a-4262fcefd1e0",
   "metadata": {
    "ExecuteTime": {
     "end_time": "2025-06-03T21:53:20.409068Z",
     "start_time": "2025-06-03T21:53:20.318582Z"
    }
   },
   "source": [
    "#checking the dataset information \n",
    "main_df.info()\n"
   ],
   "outputs": [
    {
     "name": "stdout",
     "output_type": "stream",
     "text": [
      "<class 'pandas.core.frame.DataFrame'>\n",
      "RangeIndex: 112650 entries, 0 to 112649\n",
      "Data columns (total 26 columns):\n",
      " #   Column                         Non-Null Count   Dtype  \n",
      "---  ------                         --------------   -----  \n",
      " 0   order_id                       112650 non-null  object \n",
      " 1   customer_id                    112650 non-null  object \n",
      " 2   order_status                   112650 non-null  object \n",
      " 3   order_purchase_timestamp       112650 non-null  object \n",
      " 4   order_approved_at              112635 non-null  object \n",
      " 5   order_delivered_carrier_date   111456 non-null  object \n",
      " 6   order_delivered_customer_date  110196 non-null  object \n",
      " 7   order_estimated_delivery_date  112650 non-null  object \n",
      " 8   order_item_id                  112650 non-null  int64  \n",
      " 9   product_id                     112650 non-null  object \n",
      " 10  seller_id                      112650 non-null  object \n",
      " 11  shipping_limit_date            112650 non-null  object \n",
      " 12  price                          112650 non-null  float64\n",
      " 13  freight_value                  112650 non-null  float64\n",
      " 14  customer_unique_id             112650 non-null  object \n",
      " 15  customer_zip_code_prefix       112650 non-null  int64  \n",
      " 16  customer_city                  112650 non-null  object \n",
      " 17  customer_state                 112650 non-null  object \n",
      " 18  product_category_name          111047 non-null  object \n",
      " 19  product_name_lenght            111047 non-null  float64\n",
      " 20  product_description_lenght     111047 non-null  float64\n",
      " 21  product_photos_qty             111047 non-null  float64\n",
      " 22  product_weight_g               112632 non-null  float64\n",
      " 23  product_length_cm              112632 non-null  float64\n",
      " 24  product_height_cm              112632 non-null  float64\n",
      " 25  product_width_cm               112632 non-null  float64\n",
      "dtypes: float64(9), int64(2), object(15)\n",
      "memory usage: 22.3+ MB\n"
     ]
    }
   ],
   "execution_count": 11
  },
  {
   "cell_type": "code",
   "id": "337f9fc0-f8f9-4488-b9eb-98d58fd79e7e",
   "metadata": {
    "ExecuteTime": {
     "end_time": "2025-06-03T21:53:22.798990Z",
     "start_time": "2025-06-03T21:53:22.741984Z"
    }
   },
   "source": [
    "#The description of the dataset is \n",
    "main_df.describe().T"
   ],
   "outputs": [
    {
     "data": {
      "text/plain": [
       "                               count          mean           std      min  \\\n",
       "order_item_id               112650.0      1.197834      0.705124     1.00   \n",
       "price                       112650.0    120.653739    183.633928     0.85   \n",
       "freight_value               112650.0     19.990320     15.806405     0.00   \n",
       "customer_zip_code_prefix    112650.0  35119.309090  29866.120801  1003.00   \n",
       "product_name_lenght         111047.0     48.775978     10.025581     5.00   \n",
       "product_description_lenght  111047.0    787.867029    652.135608     4.00   \n",
       "product_photos_qty          111047.0      2.209713      1.721438     1.00   \n",
       "product_weight_g            112632.0   2093.672047   3751.596884     0.00   \n",
       "product_length_cm           112632.0     30.153669     16.153449     7.00   \n",
       "product_height_cm           112632.0     16.593766     13.443483     2.00   \n",
       "product_width_cm            112632.0     22.996546     11.707268     6.00   \n",
       "\n",
       "                                 25%       50%       75%       max  \n",
       "order_item_id                   1.00      1.00      1.00     21.00  \n",
       "price                          39.90     74.99    134.90   6735.00  \n",
       "freight_value                  13.08     16.26     21.15    409.68  \n",
       "customer_zip_code_prefix    11310.00  24340.00  59028.75  99990.00  \n",
       "product_name_lenght            42.00     52.00     57.00     76.00  \n",
       "product_description_lenght    348.00    603.00    987.00   3992.00  \n",
       "product_photos_qty              1.00      1.00      3.00     20.00  \n",
       "product_weight_g              300.00    700.00   1800.00  40425.00  \n",
       "product_length_cm              18.00     25.00     38.00    105.00  \n",
       "product_height_cm               8.00     13.00     20.00    105.00  \n",
       "product_width_cm               15.00     20.00     30.00    118.00  "
      ],
      "text/html": [
       "<div>\n",
       "<style scoped>\n",
       "    .dataframe tbody tr th:only-of-type {\n",
       "        vertical-align: middle;\n",
       "    }\n",
       "\n",
       "    .dataframe tbody tr th {\n",
       "        vertical-align: top;\n",
       "    }\n",
       "\n",
       "    .dataframe thead th {\n",
       "        text-align: right;\n",
       "    }\n",
       "</style>\n",
       "<table border=\"1\" class=\"dataframe\">\n",
       "  <thead>\n",
       "    <tr style=\"text-align: right;\">\n",
       "      <th></th>\n",
       "      <th>count</th>\n",
       "      <th>mean</th>\n",
       "      <th>std</th>\n",
       "      <th>min</th>\n",
       "      <th>25%</th>\n",
       "      <th>50%</th>\n",
       "      <th>75%</th>\n",
       "      <th>max</th>\n",
       "    </tr>\n",
       "  </thead>\n",
       "  <tbody>\n",
       "    <tr>\n",
       "      <th>order_item_id</th>\n",
       "      <td>112650.0</td>\n",
       "      <td>1.197834</td>\n",
       "      <td>0.705124</td>\n",
       "      <td>1.00</td>\n",
       "      <td>1.00</td>\n",
       "      <td>1.00</td>\n",
       "      <td>1.00</td>\n",
       "      <td>21.00</td>\n",
       "    </tr>\n",
       "    <tr>\n",
       "      <th>price</th>\n",
       "      <td>112650.0</td>\n",
       "      <td>120.653739</td>\n",
       "      <td>183.633928</td>\n",
       "      <td>0.85</td>\n",
       "      <td>39.90</td>\n",
       "      <td>74.99</td>\n",
       "      <td>134.90</td>\n",
       "      <td>6735.00</td>\n",
       "    </tr>\n",
       "    <tr>\n",
       "      <th>freight_value</th>\n",
       "      <td>112650.0</td>\n",
       "      <td>19.990320</td>\n",
       "      <td>15.806405</td>\n",
       "      <td>0.00</td>\n",
       "      <td>13.08</td>\n",
       "      <td>16.26</td>\n",
       "      <td>21.15</td>\n",
       "      <td>409.68</td>\n",
       "    </tr>\n",
       "    <tr>\n",
       "      <th>customer_zip_code_prefix</th>\n",
       "      <td>112650.0</td>\n",
       "      <td>35119.309090</td>\n",
       "      <td>29866.120801</td>\n",
       "      <td>1003.00</td>\n",
       "      <td>11310.00</td>\n",
       "      <td>24340.00</td>\n",
       "      <td>59028.75</td>\n",
       "      <td>99990.00</td>\n",
       "    </tr>\n",
       "    <tr>\n",
       "      <th>product_name_lenght</th>\n",
       "      <td>111047.0</td>\n",
       "      <td>48.775978</td>\n",
       "      <td>10.025581</td>\n",
       "      <td>5.00</td>\n",
       "      <td>42.00</td>\n",
       "      <td>52.00</td>\n",
       "      <td>57.00</td>\n",
       "      <td>76.00</td>\n",
       "    </tr>\n",
       "    <tr>\n",
       "      <th>product_description_lenght</th>\n",
       "      <td>111047.0</td>\n",
       "      <td>787.867029</td>\n",
       "      <td>652.135608</td>\n",
       "      <td>4.00</td>\n",
       "      <td>348.00</td>\n",
       "      <td>603.00</td>\n",
       "      <td>987.00</td>\n",
       "      <td>3992.00</td>\n",
       "    </tr>\n",
       "    <tr>\n",
       "      <th>product_photos_qty</th>\n",
       "      <td>111047.0</td>\n",
       "      <td>2.209713</td>\n",
       "      <td>1.721438</td>\n",
       "      <td>1.00</td>\n",
       "      <td>1.00</td>\n",
       "      <td>1.00</td>\n",
       "      <td>3.00</td>\n",
       "      <td>20.00</td>\n",
       "    </tr>\n",
       "    <tr>\n",
       "      <th>product_weight_g</th>\n",
       "      <td>112632.0</td>\n",
       "      <td>2093.672047</td>\n",
       "      <td>3751.596884</td>\n",
       "      <td>0.00</td>\n",
       "      <td>300.00</td>\n",
       "      <td>700.00</td>\n",
       "      <td>1800.00</td>\n",
       "      <td>40425.00</td>\n",
       "    </tr>\n",
       "    <tr>\n",
       "      <th>product_length_cm</th>\n",
       "      <td>112632.0</td>\n",
       "      <td>30.153669</td>\n",
       "      <td>16.153449</td>\n",
       "      <td>7.00</td>\n",
       "      <td>18.00</td>\n",
       "      <td>25.00</td>\n",
       "      <td>38.00</td>\n",
       "      <td>105.00</td>\n",
       "    </tr>\n",
       "    <tr>\n",
       "      <th>product_height_cm</th>\n",
       "      <td>112632.0</td>\n",
       "      <td>16.593766</td>\n",
       "      <td>13.443483</td>\n",
       "      <td>2.00</td>\n",
       "      <td>8.00</td>\n",
       "      <td>13.00</td>\n",
       "      <td>20.00</td>\n",
       "      <td>105.00</td>\n",
       "    </tr>\n",
       "    <tr>\n",
       "      <th>product_width_cm</th>\n",
       "      <td>112632.0</td>\n",
       "      <td>22.996546</td>\n",
       "      <td>11.707268</td>\n",
       "      <td>6.00</td>\n",
       "      <td>15.00</td>\n",
       "      <td>20.00</td>\n",
       "      <td>30.00</td>\n",
       "      <td>118.00</td>\n",
       "    </tr>\n",
       "  </tbody>\n",
       "</table>\n",
       "</div>"
      ]
     },
     "execution_count": 12,
     "metadata": {},
     "output_type": "execute_result"
    }
   ],
   "execution_count": 12
  },
  {
   "cell_type": "markdown",
   "id": "1a8840bf-7777-4a36-af13-7f8096364084",
   "metadata": {},
   "source": [
    "Feature Engineering "
   ]
  },
  {
   "cell_type": "code",
   "id": "eb144533-b20b-4b1f-a9ea-85162665bffc",
   "metadata": {
    "ExecuteTime": {
     "end_time": "2025-06-03T21:53:25.258913Z",
     "start_time": "2025-06-03T21:53:25.134412Z"
    }
   },
   "source": [
    "#converting the date columns to dates\n",
    "date_columns =['order_approved_at', 'order_delivered_carrier_date', 'order_delivered_customer_date', 'order_estimated_delivery_date', 'shipping_limit_date']\n",
    "\n",
    "for col in date_columns:\n",
    "    main_df[col]= pd.to_datetime(main_df[col], errors='coerce')\n",
    "\n",
    "    #converting product quantities to be integers\n",
    "    main_df['product_photos_qty'] = main_df['product_photos_qty'].fillna(0).astype(int)"
   ],
   "outputs": [],
   "execution_count": 13
  },
  {
   "cell_type": "code",
   "id": "c1ae6a4a-69b1-4631-92e8-e4e6b12507e6",
   "metadata": {
    "ExecuteTime": {
     "end_time": "2025-06-03T21:53:27.592930Z",
     "start_time": "2025-06-03T21:53:27.420009Z"
    }
   },
   "source": [
    "#seperating date and time \n",
    "#date/time features Extraction\n",
    "main_df['order_purchase_timestamp']= pd.to_datetime(main_df['order_purchase_timestamp'])\n",
    "main_df['order_year'] = main_df['order_purchase_timestamp'].dt.year\n",
    "main_df['order_month'] = main_df['order_purchase_timestamp'].dt.month\n",
    "main_df['order_day_of_week'] = main_df['order_purchase_timestamp'].dt.dayofweek\n",
    "main_df['order_hour'] = main_df['order_purchase_timestamp'].dt.hour\n",
    "\n",
    "#check distributions\n",
    "main_df['price'].hist(bins=50)\n",
    "plt.title('Price Ditributions')\n",
    "plt.show()"
   ],
   "outputs": [
    {
     "data": {
      "text/plain": [
       "<Figure size 640x480 with 1 Axes>"
      ],
      "image/png": "[encoded data removed]"
     },
     "metadata": {},
     "output_type": "display_data"
    }
   ],
   "execution_count": 14
  },
  {
   "cell_type": "markdown",
   "id": "9e6fb42c-b0a0-451b-b5b2-4d6c9ad6bfa8",
   "metadata": {},
   "source": [
    "The above shoes are lefty skewed which means most prices are low from 0 < 1000, meaning most of the products are cheap, and there are few expensive items "
   ]
  },
  {
   "cell_type": "code",
   "id": "db31d402-f2e9-4e39-ba5e-67965a354219",
   "metadata": {
    "ExecuteTime": {
     "end_time": "2025-06-03T21:53:34.643913Z",
     "start_time": "2025-06-03T21:53:34.598832Z"
    }
   },
   "source": [
    "main_df.columns\n"
   ],
   "outputs": [
    {
     "data": {
      "text/plain": [
       "Index(['order_id', 'customer_id', 'order_status', 'order_purchase_timestamp',\n",
       "       'order_approved_at', 'order_delivered_carrier_date',\n",
       "       'order_delivered_customer_date', 'order_estimated_delivery_date',\n",
       "       'order_item_id', 'product_id', 'seller_id', 'shipping_limit_date',\n",
       "       'price', 'freight_value', 'customer_unique_id',\n",
       "       'customer_zip_code_prefix', 'customer_city', 'customer_state',\n",
       "       'product_category_name', 'product_name_lenght',\n",
       "       'product_description_lenght', 'product_photos_qty', 'product_weight_g',\n",
       "       'product_length_cm', 'product_height_cm', 'product_width_cm',\n",
       "       'order_year', 'order_month', 'order_day_of_week', 'order_hour'],\n",
       "      dtype='object')"
      ]
     },
     "execution_count": 15,
     "metadata": {},
     "output_type": "execute_result"
    }
   ],
   "execution_count": 15
  },
  {
   "cell_type": "code",
   "id": "f80d450d-c467-430e-a1ed-ec32deccbbb1",
   "metadata": {
    "ExecuteTime": {
     "end_time": "2025-06-03T21:53:36.782600Z",
     "start_time": "2025-06-03T21:53:36.682621Z"
    }
   },
   "source": [
    "main_df.info()\n"
   ],
   "outputs": [
    {
     "name": "stdout",
     "output_type": "stream",
     "text": [
      "<class 'pandas.core.frame.DataFrame'>\n",
      "RangeIndex: 112650 entries, 0 to 112649\n",
      "Data columns (total 30 columns):\n",
      " #   Column                         Non-Null Count   Dtype         \n",
      "---  ------                         --------------   -----         \n",
      " 0   order_id                       112650 non-null  object        \n",
      " 1   customer_id                    112650 non-null  object        \n",
      " 2   order_status                   112650 non-null  object        \n",
      " 3   order_purchase_timestamp       112650 non-null  datetime64[ns]\n",
      " 4   order_approved_at              112635 non-null  datetime64[ns]\n",
      " 5   order_delivered_carrier_date   111456 non-null  datetime64[ns]\n",
      " 6   order_delivered_customer_date  110196 non-null  datetime64[ns]\n",
      " 7   order_estimated_delivery_date  112650 non-null  datetime64[ns]\n",
      " 8   order_item_id                  112650 non-null  int64         \n",
      " 9   product_id                     112650 non-null  object        \n",
      " 10  seller_id                      112650 non-null  object        \n",
      " 11  shipping_limit_date            112650 non-null  datetime64[ns]\n",
      " 12  price                          112650 non-null  float64       \n",
      " 13  freight_value                  112650 non-null  float64       \n",
      " 14  customer_unique_id             112650 non-null  object        \n",
      " 15  customer_zip_code_prefix       112650 non-null  int64         \n",
      " 16  customer_city                  112650 non-null  object        \n",
      " 17  customer_state                 112650 non-null  object        \n",
      " 18  product_category_name          111047 non-null  object        \n",
      " 19  product_name_lenght            111047 non-null  float64       \n",
      " 20  product_description_lenght     111047 non-null  float64       \n",
      " 21  product_photos_qty             112650 non-null  int64         \n",
      " 22  product_weight_g               112632 non-null  float64       \n",
      " 23  product_length_cm              112632 non-null  float64       \n",
      " 24  product_height_cm              112632 non-null  float64       \n",
      " 25  product_width_cm               112632 non-null  float64       \n",
      " 26  order_year                     112650 non-null  int32         \n",
      " 27  order_month                    112650 non-null  int32         \n",
      " 28  order_day_of_week              112650 non-null  int32         \n",
      " 29  order_hour                     112650 non-null  int32         \n",
      "dtypes: datetime64[ns](6), float64(8), int32(4), int64(3), object(9)\n",
      "memory usage: 24.1+ MB\n"
     ]
    }
   ],
   "execution_count": 16
  },
  {
   "cell_type": "markdown",
   "id": "0188f260-59c2-4e39-ae5a-271c67b051d7",
   "metadata": {},
   "source": [
    "Handling Missing values "
   ]
  },
  {
   "cell_type": "code",
   "id": "1d9dea63-e785-42a9-8578-4d42a2a68d98",
   "metadata": {
    "ExecuteTime": {
     "end_time": "2025-06-03T21:53:38.757605Z",
     "start_time": "2025-06-03T21:53:38.684096Z"
    }
   },
   "source": [
    "main_df.isnull().sum()"
   ],
   "outputs": [
    {
     "data": {
      "text/plain": [
       "order_id                            0\n",
       "customer_id                         0\n",
       "order_status                        0\n",
       "order_purchase_timestamp            0\n",
       "order_approved_at                  15\n",
       "order_delivered_carrier_date     1194\n",
       "order_delivered_customer_date    2454\n",
       "order_estimated_delivery_date       0\n",
       "order_item_id                       0\n",
       "product_id                          0\n",
       "seller_id                           0\n",
       "shipping_limit_date                 0\n",
       "price                               0\n",
       "freight_value                       0\n",
       "customer_unique_id                  0\n",
       "customer_zip_code_prefix            0\n",
       "customer_city                       0\n",
       "customer_state                      0\n",
       "product_category_name            1603\n",
       "product_name_lenght              1603\n",
       "product_description_lenght       1603\n",
       "product_photos_qty                  0\n",
       "product_weight_g                   18\n",
       "product_length_cm                  18\n",
       "product_height_cm                  18\n",
       "product_width_cm                   18\n",
       "order_year                          0\n",
       "order_month                         0\n",
       "order_day_of_week                   0\n",
       "order_hour                          0\n",
       "dtype: int64"
      ]
     },
     "execution_count": 17,
     "metadata": {},
     "output_type": "execute_result"
    }
   ],
   "execution_count": 17
  },
  {
   "cell_type": "code",
   "id": "5095da3a-e8b2-49b5-8d18-1406800c32af",
   "metadata": {
    "ExecuteTime": {
     "end_time": "2025-06-03T21:53:41.346120Z",
     "start_time": "2025-06-03T21:53:41.275349Z"
    }
   },
   "source": [
    "#checking rows with null values \n",
    "main_df.isnull().any(axis=1).sum()"
   ],
   "outputs": [
    {
     "data": {
      "text/plain": [
       "4007"
      ]
     },
     "execution_count": 18,
     "metadata": {},
     "output_type": "execute_result"
    }
   ],
   "execution_count": 18
  },
  {
   "cell_type": "markdown",
   "id": "4066b918-bc65-4357-828a-bf240790c323",
   "metadata": {},
   "source": [
    "For missing dataset :thinking of business Logic"
   ]
  },
  {
   "cell_type": "code",
   "id": "6c88d988-8740-4280-b588-0647499312fc",
   "metadata": {
    "ExecuteTime": {
     "end_time": "2025-06-03T21:53:43.983982Z",
     "start_time": "2025-06-03T21:53:43.974628Z"
    }
   },
   "source": [
    "#These are naturally missing based on business logic processes\n",
    "#The Order approved has 15 missing values, and the order might be auto-approved based on the system processing \n",
    "main_df['order_approved_at'].fillna(main_df['order_purchase_timestamp'], inplace=True)\n",
    "\n",
    "#keep delivery date as NAN(they are meaningful)\n",
    "\n",
    "#order_delivered_carrier_date= 1,194 missing - order not shipped yet \n",
    "#order_delivered_cutomer_date-2,454 missing -orders not delivered yet\n",
    "#keeping these as NAN -they represent unfinished orders!"
   ],
   "outputs": [],
   "execution_count": 19
  },
  {
   "cell_type": "code",
   "id": "a95deb40-c3d7-4ddc-959f-62b23fa6e115",
   "metadata": {
    "ExecuteTime": {
     "end_time": "2025-06-03T21:53:47.524253Z",
     "start_time": "2025-06-03T21:53:47.486419Z"
    }
   },
   "source": [
    "#for product info columns (date product missing)\n",
    "#since 1603 missing values are likely the same product missing across all the columns \n",
    "#checking if the product is missing \n",
    "\n",
    "print(\"Product missing category info:\")\n",
    "missing_products =main_df[main_df['product_category_name'].isnull()]\n",
    "print(f\"Unique product: {missing_products['product_id'].nunique()}\")"
   ],
   "outputs": [
    {
     "name": "stdout",
     "output_type": "stream",
     "text": [
      "Product missing category info:\n",
      "Unique product: 610\n"
     ]
    }
   ],
   "execution_count": 20
  },
  {
   "cell_type": "code",
   "id": "db6933e4-d1f0-46f1-92b9-3cd4a3eeaea7",
   "metadata": {
    "ExecuteTime": {
     "end_time": "2025-06-03T21:53:49.175494Z",
     "start_time": "2025-06-03T21:53:49.157906Z"
    }
   },
   "source": [
    "#filling with unknown or most common values \n",
    "main_df['product_category_name'].fillna('unknown', inplace =True)\n",
    "main_df['product_name_lenght'].fillna(main_df['product_name_lenght'].median(), inplace=True)\n",
    "main_df['product_description_lenght'].fillna(main_df['product_description_lenght'].median(), inplace =True)\n",
    "main_df['product_photos_qty'].fillna(1, inplace =True) #most products have 1 photos "
   ],
   "outputs": [],
   "execution_count": 21
  },
  {
   "cell_type": "code",
   "id": "a2425478-8d94-435d-b323-067f2ded5fcb",
   "metadata": {
    "ExecuteTime": {
     "end_time": "2025-06-03T21:53:50.961375Z",
     "start_time": "2025-06-03T21:53:50.932227Z"
    }
   },
   "source": [
    "#PRODUCT DIMENSION IMPUTATION VALUES \n",
    "#use median imputation for dimension \n",
    "main_df['product_weight_g'].fillna(main_df.product_weight_g.median(), inplace=True)\n",
    "main_df['product_length_cm'].fillna(main_df.product_length_cm.median(), inplace=True)\n",
    "main_df['product_height_cm'].fillna(main_df.product_height_cm.median(), inplace=True)\n",
    "main_df['product_width_cm'].fillna(main_df.product_width_cm.median(), inplace=True)"
   ],
   "outputs": [],
   "execution_count": 22
  },
  {
   "cell_type": "code",
   "id": "ffe7166b-bf79-4285-988b-bf28ee314ca7",
   "metadata": {
    "ExecuteTime": {
     "end_time": "2025-06-03T21:53:53.019346Z",
     "start_time": "2025-06-03T21:53:52.990046Z"
    }
   },
   "source": [
    "#verify missing values in key columns \n",
    "print(\"Missing values after cleaning\")\n",
    "print(main_df[['price', 'product_category_name', 'product_weight_g']].isnull().sum())"
   ],
   "outputs": [
    {
     "name": "stdout",
     "output_type": "stream",
     "text": [
      "Missing values after cleaning\n",
      "price                    0\n",
      "product_category_name    0\n",
      "product_weight_g         0\n",
      "dtype: int64\n"
     ]
    }
   ],
   "execution_count": 23
  },
  {
   "cell_type": "code",
   "id": "da070367-86e2-47b2-8204-c33caecc727f",
   "metadata": {
    "ExecuteTime": {
     "end_time": "2025-06-03T21:53:54.968142Z",
     "start_time": "2025-06-03T21:53:54.942874Z"
    }
   },
   "source": [
    "main_df.columns"
   ],
   "outputs": [
    {
     "data": {
      "text/plain": [
       "Index(['order_id', 'customer_id', 'order_status', 'order_purchase_timestamp',\n",
       "       'order_approved_at', 'order_delivered_carrier_date',\n",
       "       'order_delivered_customer_date', 'order_estimated_delivery_date',\n",
       "       'order_item_id', 'product_id', 'seller_id', 'shipping_limit_date',\n",
       "       'price', 'freight_value', 'customer_unique_id',\n",
       "       'customer_zip_code_prefix', 'customer_city', 'customer_state',\n",
       "       'product_category_name', 'product_name_lenght',\n",
       "       'product_description_lenght', 'product_photos_qty', 'product_weight_g',\n",
       "       'product_length_cm', 'product_height_cm', 'product_width_cm',\n",
       "       'order_year', 'order_month', 'order_day_of_week', 'order_hour'],\n",
       "      dtype='object')"
      ]
     },
     "execution_count": 24,
     "metadata": {},
     "output_type": "execute_result"
    }
   ],
   "execution_count": 24
  },
  {
   "cell_type": "code",
   "id": "db98e303-fc51-4cd8-866b-f634e6c916a2",
   "metadata": {
    "ExecuteTime": {
     "end_time": "2025-06-03T21:53:57.177522Z",
     "start_time": "2025-06-03T21:53:57.119556Z"
    }
   },
   "source": [
    "main_df.isnull().sum()"
   ],
   "outputs": [
    {
     "data": {
      "text/plain": [
       "order_id                            0\n",
       "customer_id                         0\n",
       "order_status                        0\n",
       "order_purchase_timestamp            0\n",
       "order_approved_at                   0\n",
       "order_delivered_carrier_date     1194\n",
       "order_delivered_customer_date    2454\n",
       "order_estimated_delivery_date       0\n",
       "order_item_id                       0\n",
       "product_id                          0\n",
       "seller_id                           0\n",
       "shipping_limit_date                 0\n",
       "price                               0\n",
       "freight_value                       0\n",
       "customer_unique_id                  0\n",
       "customer_zip_code_prefix            0\n",
       "customer_city                       0\n",
       "customer_state                      0\n",
       "product_category_name               0\n",
       "product_name_lenght                 0\n",
       "product_description_lenght          0\n",
       "product_photos_qty                  0\n",
       "product_weight_g                    0\n",
       "product_length_cm                   0\n",
       "product_height_cm                   0\n",
       "product_width_cm                    0\n",
       "order_year                          0\n",
       "order_month                         0\n",
       "order_day_of_week                   0\n",
       "order_hour                          0\n",
       "dtype: int64"
      ]
     },
     "execution_count": 25,
     "metadata": {},
     "output_type": "execute_result"
    }
   ],
   "execution_count": 25
  },
  {
   "cell_type": "code",
   "id": "7970c342-e01b-49f6-9c6c-2e89650380da",
   "metadata": {
    "ExecuteTime": {
     "end_time": "2025-06-03T21:53:59.478Z",
     "start_time": "2025-06-03T21:53:59.443405Z"
    }
   },
   "source": [
    "#calculating delivery tine \n",
    "main_df['delivery_days']= (main_df['order_delivered_customer_date'] - main_df['order_purchase_timestamp']).dt.days\n",
    "\n",
    "#total order value\n",
    "main_df['total_order_value'] = main_df['price'] * main_df['freight_value']\n",
    "\n",
    "#is weekend order?\n",
    "main_df['is_weekend'] = main_df['order_day_of_week'].isin([5, 6])"
   ],
   "outputs": [],
   "execution_count": 26
  },
  {
   "metadata": {
    "ExecuteTime": {
     "end_time": "2025-06-04T09:38:34.161744Z",
     "start_time": "2025-06-04T09:38:34.116294Z"
    }
   },
   "cell_type": "code",
   "source": "main_df.info()",
   "id": "5fce0444400c8928",
   "outputs": [
    {
     "name": "stdout",
     "output_type": "stream",
     "text": [
      "<class 'pandas.core.frame.DataFrame'>\n",
      "RangeIndex: 112650 entries, 0 to 112649\n",
      "Data columns (total 33 columns):\n",
      " #   Column                         Non-Null Count   Dtype         \n",
      "---  ------                         --------------   -----         \n",
      " 0   order_id                       112650 non-null  object        \n",
      " 1   customer_id                    112650 non-null  object        \n",
      " 2   order_status                   112650 non-null  object        \n",
      " 3   order_purchase_timestamp       112650 non-null  datetime64[ns]\n",
      " 4   order_approved_at              112650 non-null  datetime64[ns]\n",
      " 5   order_delivered_carrier_date   111456 non-null  datetime64[ns]\n",
      " 6   order_delivered_customer_date  110196 non-null  datetime64[ns]\n",
      " 7   order_estimated_delivery_date  112650 non-null  datetime64[ns]\n",
      " 8   order_item_id                  112650 non-null  int64         \n",
      " 9   product_id                     112650 non-null  object        \n",
      " 10  seller_id                      112650 non-null  object        \n",
      " 11  shipping_limit_date            112650 non-null  datetime64[ns]\n",
      " 12  price                          112650 non-null  float64       \n",
      " 13  freight_value                  112650 non-null  float64       \n",
      " 14  customer_unique_id             112650 non-null  object        \n",
      " 15  customer_zip_code_prefix       112650 non-null  int64         \n",
      " 16  customer_city                  112650 non-null  object        \n",
      " 17  customer_state                 112650 non-null  object        \n",
      " 18  product_category_name          112650 non-null  object        \n",
      " 19  product_name_lenght            112650 non-null  float64       \n",
      " 20  product_description_lenght     112650 non-null  float64       \n",
      " 21  product_photos_qty             112650 non-null  int64         \n",
      " 22  product_weight_g               112650 non-null  float64       \n",
      " 23  product_length_cm              112650 non-null  float64       \n",
      " 24  product_height_cm              112650 non-null  float64       \n",
      " 25  product_width_cm               112650 non-null  float64       \n",
      " 26  order_year                     112650 non-null  int32         \n",
      " 27  order_month                    112650 non-null  int32         \n",
      " 28  order_day_of_week              112650 non-null  int32         \n",
      " 29  order_hour                     112650 non-null  int32         \n",
      " 30  delivery_days                  110196 non-null  float64       \n",
      " 31  total_order_value              112650 non-null  float64       \n",
      " 32  is_weekend                     112650 non-null  bool          \n",
      "dtypes: bool(1), datetime64[ns](6), float64(10), int32(4), int64(3), object(9)\n",
      "memory usage: 25.9+ MB\n"
     ]
    }
   ],
   "execution_count": 32
  },
  {
   "cell_type": "code",
   "id": "f260ba9b-63d0-4b01-944b-2b3a3b33c992",
   "metadata": {
    "ExecuteTime": {
     "end_time": "2025-06-04T09:37:16.209528Z",
     "start_time": "2025-06-04T09:37:16.084305Z"
    }
   },
   "source": [
    "#saving the clean preprocessed datasewt \n",
    "import pickle \n",
    "import os \n",
    "\n",
    "#save the clean main_df \n",
    "output_dir= \"../data/processed/\"\n",
    "os.makedirs(output_dir, exist_ok=True)\n",
    "\n",
    "#save main_df to pickle file \n",
    "with open(f\"{output_dir}main_df_cleaned.pkl\", \"wb\") as f:\n",
    "    pickle.dump(main_df, f)\n",
    "    \n",
    "print(f\"cleaned data saved to{output_dir} main_df_cleaned.pkl\" )\n",
    "print(f\"Dataset shape: {main_df.shape}\")\n"
   ],
   "outputs": [
    {
     "name": "stdout",
     "output_type": "stream",
     "text": [
      "cleaned data saved to../data/processed/ main_df_cleaned.pkl\n",
      "Dataset shape: (112650, 33)\n"
     ]
    }
   ],
   "execution_count": 29
  }
 ],
 "metadata": {
  "kernelspec": {
   "display_name": "python (base)",
   "language": "python",
   "name": "base"
  },
  "language_info": {
   "codemirror_mode": {
    "name": "ipython",
    "version": 3
   },
   "file_extension": ".py",
   "mimetype": "text/x-python",
   "name": "python",
   "nbconvert_exporter": "python",
   "pygments_lexer": "ipython3",
   "version": "3.12.2"
  }
 },
 "nbformat": 4,
 "nbformat_minor": 5
}
