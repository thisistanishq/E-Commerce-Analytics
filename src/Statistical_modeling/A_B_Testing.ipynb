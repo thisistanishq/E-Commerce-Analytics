{
 "cells": [
  {
   "cell_type": "code",
   "id": "initial_id",
   "metadata": {
    "ExecuteTime": {
     "end_time": "2025-06-04T11:14:07.006943Z",
     "start_time": "2025-06-04T11:14:07.005648Z"
    }
   },
   "source": [
    "import os \n",
    "import numpy as np \n",
    "import pandas as pd \n",
    "import warnings\n",
    "import pickle\n",
    "import matplotlib.pyplot as plt\n",
    "import seaborn as sns\n",
    "\n",
    "warnings.filterwarnings('ignore')"
   ],
   "outputs": [],
   "execution_count": 1
  },
  {
   "cell_type": "markdown",
   "id": "ce90b2c6-6ca8-4df9-81b7-07c0cd1a071d",
   "metadata": {},
   "source": [
    "A/B-testing -Experimental Setup"
   ]
  },
  {
   "cell_type": "markdown",
   "id": "ec8a2fba-577d-49c0-9eae-4d0792ead64b",
   "metadata": {},
   "source": [
    "Adding the payment dataset to the main dataset, its important for A/B testing "
   ]
  },
  {
   "cell_type": "code",
   "id": "a1d7eaec-d17d-46c4-8800-11936d77c919",
   "metadata": {
    "ExecuteTime": {
     "end_time": "2025-06-04T11:14:10.758190Z",
     "start_time": "2025-06-04T11:14:10.096498Z"
    }
   },
   "source": [
    "#loading all the dataset from kaggle \n",
    "import kagglehub\n",
    "path = kagglehub.dataset_download(\"olistbr/brazilian-ecommerce\")\n",
    "print('path to dataset file:', path)"
   ],
   "outputs": [
    {
     "name": "stdout",
     "output_type": "stream",
     "text": [
      "Warning: Looks like you're using an outdated `kagglehub` version (installed: 0.3.8), please consider upgrading to the latest version (0.3.12).\n",
      "path to dataset file: /Users/modupeolafagbenro/.cache/kagglehub/datasets/olistbr/brazilian-ecommerce/versions/2\n"
     ]
    }
   ],
   "execution_count": 2
  },
  {
   "cell_type": "code",
   "id": "5a3f95cf-0d02-4459-bcd6-1ad6d1b1cc1c",
   "metadata": {
    "ExecuteTime": {
     "end_time": "2025-06-04T11:14:13.022561Z",
     "start_time": "2025-06-04T11:14:13.017854Z"
    }
   },
   "source": [
    "files = os.listdir(path)\n",
    "print(\"files in the directory path and dataset inside:\")\n",
    "for file in files:\n",
    "    print(file)"
   ],
   "outputs": [
    {
     "name": "stdout",
     "output_type": "stream",
     "text": [
      "files in the directory path and dataset inside:\n",
      "olist_sellers_dataset.csv\n",
      "product_category_name_translation.csv\n",
      "olist_orders_dataset.csv\n",
      "olist_order_items_dataset.csv\n",
      "olist_customers_dataset.csv\n",
      "olist_geolocation_dataset.csv\n",
      "olist_order_payments_dataset.csv\n",
      "olist_order_reviews_dataset.csv\n",
      "olist_products_dataset.csv\n"
     ]
    }
   ],
   "execution_count": 3
  },
  {
   "cell_type": "code",
   "id": "cee0bce8-5b5f-4958-b8c0-c27ead57be09",
   "metadata": {
    "ExecuteTime": {
     "end_time": "2025-06-04T11:14:15.000485Z",
     "start_time": "2025-06-04T11:14:14.991811Z"
    }
   },
   "source": [
    "#loading the clean dataset \n",
    "#load the cleaned dtaset \n",
    "def load_cleaned_data():\n",
    "    \"\"\"Load the cleaned main_df from data_prepocessing\"\"\"\n",
    "    try:\n",
    "        with open(\"../data/processed/main_df_cleaned.pkl\", \"rb\") as f:\n",
    "            main_df = pickle.load(f)\n",
    "        print(f\"Load cleaned data: {main_df.shape}\")\n",
    "        return main_df\n",
    "    except FileNotFoundError:\n",
    "        print(\"Cleaned data file not found. Run data_preprocessing first.\")\n",
    "        return None"
   ],
   "outputs": [],
   "execution_count": 4
  },
  {
   "cell_type": "code",
   "id": "4f415928-348e-40fb-89f3-dcce2be32479",
   "metadata": {
    "ExecuteTime": {
     "end_time": "2025-06-04T11:14:17.174845Z",
     "start_time": "2025-06-04T11:14:17.096720Z"
    }
   },
   "source": [
    "main_df=load_cleaned_data()\n",
    "\n",
    "if main_df is not None:\n",
    "    print(\"Read for viz!\")\n",
    "    print(main_df.head())"
   ],
   "outputs": [
    {
     "name": "stdout",
     "output_type": "stream",
     "text": [
      "Load cleaned data: (112650, 33)\n",
      "Read for viz!\n",
      "                           order_id                       customer_id  \\\n",
      "0  e481f51cbdc54678b7cc49136f2d6af7  9ef432eb6251297304e76186b10a928d   \n",
      "1  53cdb2fc8bc7dce0b6741e2150273451  b0830fb4747a6c6d20dea0b8c802d7ef   \n",
      "2  47770eb9100c2d0c44946d9cf07ec65d  41ce2a54c0b03bf3443c3d931a367089   \n",
      "3  949d5b44dbf5de918fe9c16f97b45f8a  f88197465ea7920adcdbec7375364d82   \n",
      "4  ad21c59c0840e6cb83a9ceb5573f8159  8ab97904e6daea8866dbdbc4fb7aad2c   \n",
      "\n",
      "  order_status order_purchase_timestamp   order_approved_at  \\\n",
      "0    delivered      2017-10-02 10:56:33 2017-10-02 11:07:15   \n",
      "1    delivered      2018-07-24 20:41:37 2018-07-26 03:24:27   \n",
      "2    delivered      2018-08-08 08:38:49 2018-08-08 08:55:23   \n",
      "3    delivered      2017-11-18 19:28:06 2017-11-18 19:45:59   \n",
      "4    delivered      2018-02-13 21:18:39 2018-02-13 22:20:29   \n",
      "\n",
      "  order_delivered_carrier_date order_delivered_customer_date  \\\n",
      "0          2017-10-04 19:55:00           2017-10-10 21:25:13   \n",
      "1          2018-07-26 14:31:00           2018-08-07 15:27:45   \n",
      "2          2018-08-08 13:50:00           2018-08-17 18:06:29   \n",
      "3          2017-11-22 13:39:59           2017-12-02 00:28:42   \n",
      "4          2018-02-14 19:46:34           2018-02-16 18:17:02   \n",
      "\n",
      "  order_estimated_delivery_date  order_item_id  \\\n",
      "0                    2017-10-18              1   \n",
      "1                    2018-08-13              1   \n",
      "2                    2018-09-04              1   \n",
      "3                    2017-12-15              1   \n",
      "4                    2018-02-26              1   \n",
      "\n",
      "                         product_id  ... product_length_cm product_height_cm  \\\n",
      "0  87285b34884572647811a353c7ac498a  ...              19.0               8.0   \n",
      "1  595fac2a385ac33a80bd5114aec74eb8  ...              19.0              13.0   \n",
      "2  aa4383b373c6aca5d8797843e5594415  ...              24.0              19.0   \n",
      "3  d0b61bfb1de832b15ba9d266ca96e5b0  ...              30.0              10.0   \n",
      "4  65266b2da20d04dbe00c5c2d3bb7859e  ...              51.0              15.0   \n",
      "\n",
      "   product_width_cm  order_year order_month  order_day_of_week order_hour  \\\n",
      "0              13.0        2017          10                  0         10   \n",
      "1              19.0        2018           7                  1         20   \n",
      "2              21.0        2018           8                  2          8   \n",
      "3              20.0        2017          11                  5         19   \n",
      "4              15.0        2018           2                  1         21   \n",
      "\n",
      "  delivery_days total_order_value  is_weekend  \n",
      "0           8.0          261.5128       False  \n",
      "1          13.0         2701.6120       False  \n",
      "2           9.0         3073.2780       False  \n",
      "3          13.0         1224.0000        True  \n",
      "4           2.0          173.5280       False  \n",
      "\n",
      "[5 rows x 33 columns]\n"
     ]
    }
   ],
   "execution_count": 5
  },
  {
   "cell_type": "code",
   "id": "9d69ab16-a55a-496b-87f4-0fa0ecaf4cba",
   "metadata": {
    "ExecuteTime": {
     "end_time": "2025-06-04T11:14:22.921407Z",
     "start_time": "2025-06-04T11:14:20.213111Z"
    }
   },
   "source": [
    "#loading payment just for A/B testing \n",
    "payment_df= pd.read_csv(os.path.join(path, \"olist_order_payments_dataset.csv\"))\n",
    "\n",
    "#get primary payment method [er order (most common payment method for eacgh order)\n",
    "primary_payments= payment_df.groupby('order_id').agg({\n",
    "    'payment_type': lambda x: x.mode()[0], #most frequent payment method \n",
    "    'payment_value':'sum' #total amount paid\n",
    "}).reset_index()\n",
    "\n",
    "#merge with your current main_df \n",
    "main_df_with_payments= main_df.merge(primary_payments, on='order_id', how='left')\n",
    "\n",
    "print(f\"Shape before: {main_df.shape}\")\n",
    "print(f\"shape after: {main_df_with_payments.shape}\")"
   ],
   "outputs": [
    {
     "name": "stdout",
     "output_type": "stream",
     "text": [
      "Shape before: (112650, 33)\n",
      "shape after: (112650, 35)\n"
     ]
    }
   ],
   "execution_count": 6
  },
  {
   "cell_type": "code",
   "id": "256bea84-3156-4982-9d18-cc47e8f9d060",
   "metadata": {
    "ExecuteTime": {
     "end_time": "2025-06-04T11:14:24.995172Z",
     "start_time": "2025-06-04T11:14:24.984552Z"
    }
   },
   "source": [
    "#checking the unique values in payment type for easy a/b testing \n",
    "main_df_with_payments['payment_type'].unique()"
   ],
   "outputs": [
    {
     "data": {
      "text/plain": [
       "array(['voucher', 'boleto', 'credit_card', 'debit_card', nan],\n",
       "      dtype=object)"
      ]
     },
     "execution_count": 7,
     "metadata": {},
     "output_type": "execute_result"
    }
   ],
   "execution_count": 7
  },
  {
   "cell_type": "code",
   "id": "25427993-2c5e-4daf-a660-f4d2ef855af2",
   "metadata": {
    "ExecuteTime": {
     "end_time": "2025-06-04T11:14:26.627716Z",
     "start_time": "2025-06-04T11:14:26.613850Z"
    }
   },
   "source": [
    "#checking the null values after merge \n",
    "print(\"Null vsues in newly mergre columns in the dataset\")\n",
    "print(main_df_with_payments[['payment_type', 'payment_value']].isnull().sum())"
   ],
   "outputs": [
    {
     "name": "stdout",
     "output_type": "stream",
     "text": [
      "Null vsues in newly mergre columns in the dataset\n",
      "payment_type     3\n",
      "payment_value    3\n",
      "dtype: int64\n"
     ]
    }
   ],
   "execution_count": 8
  },
  {
   "cell_type": "code",
   "id": "06070cc4-f53c-4003-a8f5-9790d4731da5",
   "metadata": {
    "ExecuteTime": {
     "end_time": "2025-06-04T11:14:28.298374Z",
     "start_time": "2025-06-04T11:14:28.287162Z"
    }
   },
   "source": [
    "#handling null values in main_df_with_payments\n",
    "#checking which order have the missing values \n",
    "print(\"order with the missinbg payment data:\")\n",
    "missing_payments=main_df_with_payments[main_df_with_payments['payment_type'].isnull()]\n",
    "print(f\"missing payment:{len(missing_payments)} out of {len(main_df_with_payments)}\")"
   ],
   "outputs": [
    {
     "name": "stdout",
     "output_type": "stream",
     "text": [
      "order with the missinbg payment data:\n",
      "missing payment:3 out of 112650\n"
     ]
    }
   ],
   "execution_count": 9
  },
  {
   "cell_type": "code",
   "id": "9f17cbec-82f7-45d3-91b2-118c5ba3d641",
   "metadata": {
    "ExecuteTime": {
     "end_time": "2025-06-04T11:14:31.135668Z",
     "start_time": "2025-06-04T11:14:31.101665Z"
    }
   },
   "source": [
    "#filling the null values with the most common payments type \n",
    "most_common_payment=main_df_with_payments['payment_type'].mode()[0]\n",
    "\n",
    "print(f\"Most common payment: {most_common_payment}\")\n",
    "\n",
    "main_df_with_payments['payment_type'].fillna(most_common_payment, inplace=True)\n",
    "\n",
    "main_df_with_payments['payment_value'].fillna(main_df_with_payments['payment_value'].median(), inplace=True)\n"
   ],
   "outputs": [
    {
     "name": "stdout",
     "output_type": "stream",
     "text": [
      "Most common payment: credit_card\n"
     ]
    }
   ],
   "execution_count": 10
  },
  {
   "cell_type": "markdown",
   "id": "5df8074e-c247-4350-9019-abaabfea0721",
   "metadata": {},
   "source": [
    "A/B testing Simulation credit Card Vs Boleto(traditional type of payment in brazil)"
   ]
  },
  {
   "cell_type": "code",
   "id": "adb74214-485a-4f9f-9709-a4b2b3e331b0",
   "metadata": {
    "ExecuteTime": {
     "end_time": "2025-06-04T11:14:34.213117Z",
     "start_time": "2025-06-04T11:14:34.137895Z"
    }
   },
   "source": [
    "#Question what payment method leads to higher order values\n",
    "#most common comparison in brazil \n",
    "group_credit=main_df_with_payments[main_df_with_payments['payment_type']== 'credit_card']\n",
    "\n",
    "group_boleto = main_df_with_payments[main_df_with_payments['payment_type']== 'boleto']\n",
    "\n",
    "print(f\" Credit card users: {len(group_credit)}\")\n",
    "\n",
    "print(f\" Boleto users: {len(group_boleto)}\")\n",
    "\n",
    "print(f\"Avg order value - credit: ${group_credit['price'].mean():.2f}\")\n",
    "print(f\"Avg order value - boleto: ${group_boleto['price'].mean():.2f}\")\n",
    "      "
   ],
   "outputs": [
    {
     "name": "stdout",
     "output_type": "stream",
     "text": [
      " Credit card users: 86020\n",
      " Boleto users: 22867\n",
      "Avg order value - credit: $126.00\n",
      "Avg order value - boleto: $104.58\n"
     ]
    }
   ],
   "execution_count": 11
  },
  {
   "cell_type": "markdown",
   "id": "1d371e1e-c5d8-4202-85a6-e9c7275123f5",
   "metadata": {},
   "source": [
    "Statistical Testing for Credit Card Vs Traditional Payment "
   ]
  },
  {
   "cell_type": "code",
   "id": "0d0176fd-c59b-4449-bfbb-1266cd8e9cc1",
   "metadata": {
    "ExecuteTime": {
     "end_time": "2025-06-04T11:14:36.426910Z",
     "start_time": "2025-06-04T11:14:36.365123Z"
    }
   },
   "source": [
    "from scipy import stats \n",
    "\n",
    "#credit card vs boleto \n",
    "group_a= main_df_with_payments[main_df_with_payments['payment_type']== 'credit_card']['price']\n",
    "\n",
    "group_b =main_df_with_payments[main_df_with_payments['payment_type']== 'boleto']['price']\n",
    "\n",
    "t_stat,p_value=stats.ttest_ind(group_a, group_b)\n",
    "print(f\"\\nCredit Card vs Boleto A/B Test:\")\n",
    "print(f\"T-statistic:{t_stat:.4f}\")\n",
    "print(f\"p-value:{p_value:.4f}\")\n",
    "\n",
    "\n",
    "if p_value < 0.05:\n",
    "    print(\"SIGNIFICANT: payment type affect order values!\")\n",
    "else:\n",
    "    print(\"NOT SIGNIFICANT: No clear difference!\")"
   ],
   "outputs": [
    {
     "name": "stdout",
     "output_type": "stream",
     "text": [
      "\n",
      "Credit Card vs Boleto A/B Test:\n",
      "T-statistic:15.6444\n",
      "p-value:0.0000\n",
      "SIGNIFICANT: payment type affect order values!\n"
     ]
    }
   ],
   "execution_count": 12
  },
  {
   "cell_type": "markdown",
   "id": "629a2cd8-de06-4b4b-99d0-6194b0b40530",
   "metadata": {},
   "source": [
    "A/B testing Simulation 2-Digital VS Physical Payment "
   ]
  },
  {
   "cell_type": "code",
   "id": "545a48ed-6107-4d0a-b392-72abdb15437e",
   "metadata": {
    "ExecuteTime": {
     "end_time": "2025-06-04T11:14:39.446653Z",
     "start_time": "2025-06-04T11:14:39.398583Z"
    }
   },
   "source": [
    "#Group A: digital Payment (credit + DEBIT CARD) \n",
    "group_digital =main_df_with_payments[main_df_with_payments['payment_type'].isin(['credit_card', 'debit_card'])]\n",
    "\n",
    "#group physicl which i for boleto and voucher \n",
    "group_physical= main_df_with_payments[main_df_with_payments['payment_type'].isin(['boleto', 'voucher'])]\n",
    "\n",
    "\n",
    "print(f\"Digital Payment users: {len(group_digital)}\")\n",
    "\n",
    "print(f\"Physical Payment users: {len(group_physical)}\")\n",
    "\n",
    "#getting the average for the two groups\n",
    "\n",
    "print(f\"Average order value : - Digital Payment:$ {group_digital['price'].mean():.2f}\")\n",
    "\n",
    "print(f\"Average order value: - Physical Payment: ${group_physical['price'].mean():.2f}\")\n"
   ],
   "outputs": [
    {
     "name": "stdout",
     "output_type": "stream",
     "text": [
      "Digital Payment users: 87709\n",
      "Physical Payment users: 24941\n",
      "Average order value : - Digital Payment:$ 125.66\n",
      "Average order value: - Physical Payment: $103.04\n"
     ]
    }
   ],
   "execution_count": 13
  },
  {
   "cell_type": "markdown",
   "id": "4125031c-55bc-4249-bf09-d3d9848984c9",
   "metadata": {},
   "source": [
    "Statistical Testing for Physical Vs Digital Payment"
   ]
  },
  {
   "cell_type": "code",
   "id": "e1da7038-34a2-4aa2-97f5-ca2083705bcd",
   "metadata": {
    "ExecuteTime": {
     "end_time": "2025-06-04T11:14:43.600578Z",
     "start_time": "2025-06-04T11:14:43.539675Z"
    }
   },
   "source": [
    "#GROUP D - Digital which is for debit card and credit card\n",
    "\n",
    "group_d= main_df_with_payments[main_df_with_payments['payment_type'].isin( ['debit_card', 'credit_card'])]['price']\n",
    "\n",
    "group_p=main_df_with_payments[main_df_with_payments['payment_type'].isin([ 'boleto', 'voucher'])]['price']\n",
    "\n",
    "#stat testing \n",
    "\n",
    "t_test,p_value=stats.ttest_ind(group_d, group_p)\n",
    "\n",
    "print(f\"\\nDigital Payment vs Boleto A/B Test:\")\n",
    "print(f\"T-statistic:{t_test:.4f}\")\n",
    "print(f\"p-value:{p_value:.4f}\")\n",
    "\n",
    "if p_value < 0.05:\n",
    "    print(\"SIGNIFICANT: This payment type affect order values!\")\n",
    "else:\n",
    "    print(\"NOT SIGNIFICANT: No clear difference, this payment type foes not affect the order values!\")"
   ],
   "outputs": [
    {
     "name": "stdout",
     "output_type": "stream",
     "text": [
      "\n",
      "Digital Payment vs Boleto A/B Test:\n",
      "T-statistic:17.1927\n",
      "p-value:0.0000\n",
      "SIGNIFICANT: This payment type affect order values!\n"
     ]
    }
   ],
   "execution_count": 14
  },
  {
   "cell_type": "markdown",
   "id": "b8bba713-14b1-417c-b03a-6650c3141531",
   "metadata": {},
   "source": [
    "A/B test 3 :All payment type of comparision "
   ]
  },
  {
   "cell_type": "code",
   "id": "36fb98df-1569-41eb-885e-e76aa5c29e2f",
   "metadata": {
    "ExecuteTime": {
     "end_time": "2025-06-04T11:14:48.593211Z",
     "start_time": "2025-06-04T11:14:48.539206Z"
    }
   },
   "source": [
    "#compare all payment methods \n",
    "payment_analysis = main_df_with_payments.groupby('payment_type').agg({\n",
    "    'price':['count', 'mean', 'std'],\n",
    "    'freight_value': 'mean'\n",
    "}).round(2)\n",
    "\n",
    "print(\"Payment Method analysis:\")\n",
    "print(payment_analysis)"
   ],
   "outputs": [
    {
     "name": "stdout",
     "output_type": "stream",
     "text": [
      "Payment Method analysis:\n",
      "              price                 freight_value\n",
      "              count    mean     std          mean\n",
      "payment_type                                     \n",
      "boleto        22867  104.58  163.76         19.71\n",
      "credit_card   86020  126.00  188.96         20.13\n",
      "debit_card     1689  108.72  207.14         18.64\n",
      "voucher        2074   85.98  121.47         18.48\n"
     ]
    }
   ],
   "execution_count": 15
  },
  {
   "cell_type": "markdown",
   "id": "cc1d68d4-0322-4d1f-b8fb-9d96c8b1de83",
   "metadata": {},
   "source": [
    "Statistical Modeling Viz "
   ]
  },
  {
   "cell_type": "code",
   "id": "d209c7bb-3f7e-4eaa-87ec-07178cead529",
   "metadata": {
    "ExecuteTime": {
     "end_time": "2025-06-04T11:14:50.978996Z",
     "start_time": "2025-06-04T11:14:50.487806Z"
    }
   },
   "source": [
    "#boxplot of prices by payment type \n",
    "plt.figure(figsize=(10, 8))\n",
    "sns.boxplot(data=main_df_with_payments, x='payment_type', y='price')\n",
    "plt.title('order Value Distribution by payment type')\n",
    "plt.xticks(rotation=45)\n",
    "plt.tight_layout()\n",
    "plt.show()"
   ],
   "outputs": [
    {
     "data": {
      "text/plain": [
       "<Figure size 1000x800 with 1 Axes>"
      ],
      "image/png": "[encoded data removed]"
     },
     "metadata": {},
     "output_type": "display_data"
    }
   ],
   "execution_count": 16
  },
  {
   "cell_type": "code",
   "execution_count": null,
   "id": "d6cfcb10-8aaf-478a-9fc8-a9d53f20609b",
   "metadata": {},
   "outputs": [],
   "source": []
  }
 ],
 "metadata": {
  "kernelspec": {
   "display_name": "Python Data Science",
   "language": "python",
   "name": "myenv"
  },
  "language_info": {
   "codemirror_mode": {
    "name": "ipython",
    "version": 3
   },
   "file_extension": ".py",
   "mimetype": "text/x-python",
   "name": "python",
   "nbconvert_exporter": "python",
   "pygments_lexer": "ipython3",
   "version": "3.12.2"
  }
 },
 "nbformat": 4,
 "nbformat_minor": 5
}
